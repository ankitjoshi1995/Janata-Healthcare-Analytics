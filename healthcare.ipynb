{
 "cells": [
  {
   "cell_type": "code",
   "execution_count": 25,
   "metadata": {},
   "outputs": [],
   "source": [
    "# importing libraries\n",
    "import pandas as pd\n",
    "import numpy as np"
   ]
  },
  {
   "cell_type": "code",
   "execution_count": 179,
   "metadata": {},
   "outputs": [],
   "source": [
    "# loading train and test set\n",
    "df11 = pd.read_csv('train.csv')\n",
    "df22 = pd.read_csv('test.csv')\n",
    "df33 = pd.read_csv('sample.csv')"
   ]
  },
  {
   "cell_type": "code",
   "execution_count": 100,
   "metadata": {},
   "outputs": [
    {
     "data": {
      "text/html": [
       "<div>\n",
       "<style scoped>\n",
       "    .dataframe tbody tr th:only-of-type {\n",
       "        vertical-align: middle;\n",
       "    }\n",
       "\n",
       "    .dataframe tbody tr th {\n",
       "        vertical-align: top;\n",
       "    }\n",
       "\n",
       "    .dataframe thead th {\n",
       "        text-align: right;\n",
       "    }\n",
       "</style>\n",
       "<table border=\"1\" class=\"dataframe\">\n",
       "  <thead>\n",
       "    <tr style=\"text-align: right;\">\n",
       "      <th></th>\n",
       "      <th>case_id</th>\n",
       "      <th>Hospital_code</th>\n",
       "      <th>Hospital_type_code</th>\n",
       "      <th>City_Code_Hospital</th>\n",
       "      <th>Hospital_region_code</th>\n",
       "      <th>Available Extra Rooms in Hospital</th>\n",
       "      <th>Department</th>\n",
       "      <th>Ward_Type</th>\n",
       "      <th>Ward_Facility_Code</th>\n",
       "      <th>Bed Grade</th>\n",
       "      <th>patientid</th>\n",
       "      <th>City_Code_Patient</th>\n",
       "      <th>Type of Admission</th>\n",
       "      <th>Severity of Illness</th>\n",
       "      <th>Visitors with Patient</th>\n",
       "      <th>Age</th>\n",
       "      <th>Admission_Deposit</th>\n",
       "      <th>Stay</th>\n",
       "    </tr>\n",
       "  </thead>\n",
       "  <tbody>\n",
       "    <tr>\n",
       "      <th>0</th>\n",
       "      <td>1</td>\n",
       "      <td>8</td>\n",
       "      <td>c</td>\n",
       "      <td>3</td>\n",
       "      <td>Z</td>\n",
       "      <td>3</td>\n",
       "      <td>radiotherapy</td>\n",
       "      <td>R</td>\n",
       "      <td>F</td>\n",
       "      <td>2.0</td>\n",
       "      <td>31397</td>\n",
       "      <td>7.0</td>\n",
       "      <td>Emergency</td>\n",
       "      <td>Extreme</td>\n",
       "      <td>2</td>\n",
       "      <td>51-60</td>\n",
       "      <td>4911.0</td>\n",
       "      <td>0-10</td>\n",
       "    </tr>\n",
       "    <tr>\n",
       "      <th>1</th>\n",
       "      <td>2</td>\n",
       "      <td>2</td>\n",
       "      <td>c</td>\n",
       "      <td>5</td>\n",
       "      <td>Z</td>\n",
       "      <td>2</td>\n",
       "      <td>radiotherapy</td>\n",
       "      <td>S</td>\n",
       "      <td>F</td>\n",
       "      <td>2.0</td>\n",
       "      <td>31397</td>\n",
       "      <td>7.0</td>\n",
       "      <td>Trauma</td>\n",
       "      <td>Extreme</td>\n",
       "      <td>2</td>\n",
       "      <td>51-60</td>\n",
       "      <td>5954.0</td>\n",
       "      <td>41-50</td>\n",
       "    </tr>\n",
       "    <tr>\n",
       "      <th>2</th>\n",
       "      <td>3</td>\n",
       "      <td>10</td>\n",
       "      <td>e</td>\n",
       "      <td>1</td>\n",
       "      <td>X</td>\n",
       "      <td>2</td>\n",
       "      <td>anesthesia</td>\n",
       "      <td>S</td>\n",
       "      <td>E</td>\n",
       "      <td>2.0</td>\n",
       "      <td>31397</td>\n",
       "      <td>7.0</td>\n",
       "      <td>Trauma</td>\n",
       "      <td>Extreme</td>\n",
       "      <td>2</td>\n",
       "      <td>51-60</td>\n",
       "      <td>4745.0</td>\n",
       "      <td>31-40</td>\n",
       "    </tr>\n",
       "    <tr>\n",
       "      <th>3</th>\n",
       "      <td>4</td>\n",
       "      <td>26</td>\n",
       "      <td>b</td>\n",
       "      <td>2</td>\n",
       "      <td>Y</td>\n",
       "      <td>2</td>\n",
       "      <td>radiotherapy</td>\n",
       "      <td>R</td>\n",
       "      <td>D</td>\n",
       "      <td>2.0</td>\n",
       "      <td>31397</td>\n",
       "      <td>7.0</td>\n",
       "      <td>Trauma</td>\n",
       "      <td>Extreme</td>\n",
       "      <td>2</td>\n",
       "      <td>51-60</td>\n",
       "      <td>7272.0</td>\n",
       "      <td>41-50</td>\n",
       "    </tr>\n",
       "    <tr>\n",
       "      <th>4</th>\n",
       "      <td>5</td>\n",
       "      <td>26</td>\n",
       "      <td>b</td>\n",
       "      <td>2</td>\n",
       "      <td>Y</td>\n",
       "      <td>2</td>\n",
       "      <td>radiotherapy</td>\n",
       "      <td>S</td>\n",
       "      <td>D</td>\n",
       "      <td>2.0</td>\n",
       "      <td>31397</td>\n",
       "      <td>7.0</td>\n",
       "      <td>Trauma</td>\n",
       "      <td>Extreme</td>\n",
       "      <td>2</td>\n",
       "      <td>51-60</td>\n",
       "      <td>5558.0</td>\n",
       "      <td>41-50</td>\n",
       "    </tr>\n",
       "  </tbody>\n",
       "</table>\n",
       "</div>"
      ],
      "text/plain": [
       "   case_id  Hospital_code Hospital_type_code  City_Code_Hospital  \\\n",
       "0        1              8                  c                   3   \n",
       "1        2              2                  c                   5   \n",
       "2        3             10                  e                   1   \n",
       "3        4             26                  b                   2   \n",
       "4        5             26                  b                   2   \n",
       "\n",
       "  Hospital_region_code  Available Extra Rooms in Hospital    Department  \\\n",
       "0                    Z                                  3  radiotherapy   \n",
       "1                    Z                                  2  radiotherapy   \n",
       "2                    X                                  2    anesthesia   \n",
       "3                    Y                                  2  radiotherapy   \n",
       "4                    Y                                  2  radiotherapy   \n",
       "\n",
       "  Ward_Type Ward_Facility_Code  Bed Grade  patientid  City_Code_Patient  \\\n",
       "0         R                  F        2.0      31397                7.0   \n",
       "1         S                  F        2.0      31397                7.0   \n",
       "2         S                  E        2.0      31397                7.0   \n",
       "3         R                  D        2.0      31397                7.0   \n",
       "4         S                  D        2.0      31397                7.0   \n",
       "\n",
       "  Type of Admission Severity of Illness  Visitors with Patient    Age  \\\n",
       "0         Emergency             Extreme                      2  51-60   \n",
       "1            Trauma             Extreme                      2  51-60   \n",
       "2            Trauma             Extreme                      2  51-60   \n",
       "3            Trauma             Extreme                      2  51-60   \n",
       "4            Trauma             Extreme                      2  51-60   \n",
       "\n",
       "   Admission_Deposit   Stay  \n",
       "0             4911.0   0-10  \n",
       "1             5954.0  41-50  \n",
       "2             4745.0  31-40  \n",
       "3             7272.0  41-50  \n",
       "4             5558.0  41-50  "
      ]
     },
     "execution_count": 100,
     "metadata": {},
     "output_type": "execute_result"
    }
   ],
   "source": [
    "df11.head()"
   ]
  },
  {
   "cell_type": "code",
   "execution_count": 101,
   "metadata": {},
   "outputs": [
    {
     "data": {
      "text/plain": [
       "(a    143425\n",
       " b     68946\n",
       " c     45928\n",
       " e     24770\n",
       " d     20389\n",
       " f     10703\n",
       " g      4277\n",
       " Name: Hospital_type_code, dtype: int64,\n",
       " a    61305\n",
       " b    29938\n",
       " c    20219\n",
       " e    10658\n",
       " d     8659\n",
       " f     4549\n",
       " g     1729\n",
       " Name: Hospital_type_code, dtype: int64)"
      ]
     },
     "execution_count": 101,
     "metadata": {},
     "output_type": "execute_result"
    }
   ],
   "source": [
    "# check all feature's value for every columns \n",
    "df11['Hospital_type_code'].value_counts() , df22['Hospital_type_code'].value_counts()"
   ]
  },
  {
   "cell_type": "code",
   "execution_count": 102,
   "metadata": {},
   "outputs": [
    {
     "data": {
      "text/plain": [
       "26    33076\n",
       "23    26566\n",
       "19    21219\n",
       "6     20425\n",
       "11    17328\n",
       "14    17328\n",
       "28    17137\n",
       "27    14244\n",
       "9     11510\n",
       "29    11311\n",
       "12    11297\n",
       "32    10703\n",
       "25     9834\n",
       "10     9435\n",
       "15     9257\n",
       "21     8150\n",
       "24     7992\n",
       "3      7116\n",
       "17     5501\n",
       "5      5261\n",
       "1      5249\n",
       "13     5236\n",
       "2      5102\n",
       "30     5002\n",
       "22     4277\n",
       "31     3967\n",
       "16     3671\n",
       "8      3663\n",
       "18     3630\n",
       "20     1405\n",
       "7      1306\n",
       "4      1240\n",
       "Name: Hospital_code, dtype: int64"
      ]
     },
     "execution_count": 102,
     "metadata": {},
     "output_type": "execute_result"
    }
   ],
   "source": [
    "df11['Hospital_code'].value_counts()"
   ]
  },
  {
   "cell_type": "code",
   "execution_count": 103,
   "metadata": {},
   "outputs": [
    {
     "data": {
      "text/plain": [
       "1     55351\n",
       "2     51809\n",
       "6     46991\n",
       "7     35463\n",
       "3     31569\n",
       "5     31105\n",
       "9     26277\n",
       "11    17137\n",
       "4     13857\n",
       "10     5249\n",
       "13     3630\n",
       "Name: City_Code_Hospital, dtype: int64"
      ]
     },
     "execution_count": 103,
     "metadata": {},
     "output_type": "execute_result"
    }
   ],
   "source": [
    "df11['City_Code_Hospital'].value_counts()"
   ]
  },
  {
   "cell_type": "code",
   "execution_count": 104,
   "metadata": {},
   "outputs": [
    {
     "data": {
      "text/plain": [
       "X    133336\n",
       "Y    122428\n",
       "Z     62674\n",
       "Name: Hospital_region_code, dtype: int64"
      ]
     },
     "execution_count": 104,
     "metadata": {},
     "output_type": "execute_result"
    }
   ],
   "source": [
    "df11['Hospital_region_code'].value_counts()"
   ]
  },
  {
   "cell_type": "code",
   "execution_count": 105,
   "metadata": {},
   "outputs": [
    {
     "data": {
      "text/plain": [
       "2     98311\n",
       "4     91709\n",
       "3     91520\n",
       "5     19288\n",
       "6      7786\n",
       "1      5582\n",
       "7      2876\n",
       "8      1027\n",
       "9       218\n",
       "10       67\n",
       "11       17\n",
       "0        15\n",
       "12       13\n",
       "21        3\n",
       "13        2\n",
       "20        2\n",
       "14        1\n",
       "24        1\n",
       "Name: Available Extra Rooms in Hospital, dtype: int64"
      ]
     },
     "execution_count": 105,
     "metadata": {},
     "output_type": "execute_result"
    }
   ],
   "source": [
    "df11['Available Extra Rooms in Hospital'].value_counts()"
   ]
  },
  {
   "cell_type": "code",
   "execution_count": 106,
   "metadata": {},
   "outputs": [
    {
     "data": {
      "text/plain": [
       "gynecology            249486\n",
       "anesthesia             29649\n",
       "radiotherapy           28516\n",
       "TB & Chest disease      9586\n",
       "surgery                 1201\n",
       "Name: Department, dtype: int64"
      ]
     },
     "execution_count": 106,
     "metadata": {},
     "output_type": "execute_result"
    }
   ],
   "source": [
    "df11['Department'].value_counts()"
   ]
  },
  {
   "cell_type": "code",
   "execution_count": 107,
   "metadata": {},
   "outputs": [
    {
     "data": {
      "text/plain": [
       "R    127947\n",
       "Q    106165\n",
       "S     77794\n",
       "P      5046\n",
       "T      1477\n",
       "U         9\n",
       "Name: Ward_Type, dtype: int64"
      ]
     },
     "execution_count": 107,
     "metadata": {},
     "output_type": "execute_result"
    }
   ],
   "source": [
    "df11['Ward_Type'].value_counts()"
   ]
  },
  {
   "cell_type": "code",
   "execution_count": 108,
   "metadata": {},
   "outputs": [
    {
     "data": {
      "text/plain": [
       "F    112753\n",
       "E     55351\n",
       "D     51809\n",
       "C     35463\n",
       "B     35156\n",
       "A     27906\n",
       "Name: Ward_Facility_Code, dtype: int64"
      ]
     },
     "execution_count": 108,
     "metadata": {},
     "output_type": "execute_result"
    }
   ],
   "source": [
    "df11['Ward_Facility_Code'].value_counts()"
   ]
  },
  {
   "cell_type": "code",
   "execution_count": 109,
   "metadata": {},
   "outputs": [
    {
     "data": {
      "text/plain": [
       "2.0    123671\n",
       "3.0    110583\n",
       "4.0     57566\n",
       "1.0     26505\n",
       "Name: Bed Grade, dtype: int64"
      ]
     },
     "execution_count": 109,
     "metadata": {},
     "output_type": "execute_result"
    }
   ],
   "source": [
    "df11['Bed Grade'].value_counts()"
   ]
  },
  {
   "cell_type": "code",
   "execution_count": 110,
   "metadata": {},
   "outputs": [
    {
     "data": {
      "text/plain": [
       "8.0     124011\n",
       "2.0      38869\n",
       "1.0      26377\n",
       "7.0      23807\n",
       "5.0      20079\n",
       "4.0      15380\n",
       "9.0      11795\n",
       "15.0      8950\n",
       "10.0      8174\n",
       "6.0       6005\n",
       "12.0      5647\n",
       "3.0       3772\n",
       "23.0      3698\n",
       "14.0      2927\n",
       "16.0      2254\n",
       "13.0      1625\n",
       "21.0      1602\n",
       "20.0      1409\n",
       "18.0      1404\n",
       "19.0      1028\n",
       "26.0      1023\n",
       "25.0       798\n",
       "27.0       771\n",
       "11.0       658\n",
       "28.0       521\n",
       "22.0       405\n",
       "24.0       360\n",
       "30.0       133\n",
       "29.0        98\n",
       "33.0        78\n",
       "31.0        59\n",
       "37.0        57\n",
       "32.0        52\n",
       "34.0        46\n",
       "35.0        16\n",
       "36.0        12\n",
       "38.0         6\n",
       "Name: City_Code_Patient, dtype: int64"
      ]
     },
     "execution_count": 110,
     "metadata": {},
     "output_type": "execute_result"
    }
   ],
   "source": [
    "df11['City_Code_Patient'].value_counts()"
   ]
  },
  {
   "cell_type": "code",
   "execution_count": 111,
   "metadata": {},
   "outputs": [
    {
     "data": {
      "text/plain": [
       "Trauma       152261\n",
       "Emergency    117676\n",
       "Urgent        48501\n",
       "Name: Type of Admission, dtype: int64"
      ]
     },
     "execution_count": 111,
     "metadata": {},
     "output_type": "execute_result"
    }
   ],
   "source": [
    "df11['Type of Admission'].value_counts()"
   ]
  },
  {
   "cell_type": "code",
   "execution_count": 112,
   "metadata": {},
   "outputs": [
    {
     "data": {
      "text/plain": [
       "Moderate    175843\n",
       "Minor        85872\n",
       "Extreme      56723\n",
       "Name: Severity of Illness, dtype: int64"
      ]
     },
     "execution_count": 112,
     "metadata": {},
     "output_type": "execute_result"
    }
   ],
   "source": [
    "df11['Severity of Illness'].value_counts()"
   ]
  },
  {
   "cell_type": "code",
   "execution_count": 113,
   "metadata": {},
   "outputs": [
    {
     "data": {
      "text/plain": [
       "2     138417\n",
       "4      79225\n",
       "3      59180\n",
       "6      18860\n",
       "5       9219\n",
       "8       4872\n",
       "7       2504\n",
       "9       1358\n",
       "1       1207\n",
       "10      1183\n",
       "12       968\n",
       "11       327\n",
       "16       286\n",
       "14       207\n",
       "15       194\n",
       "13       106\n",
       "24        78\n",
       "20        62\n",
       "18        61\n",
       "0         22\n",
       "17        20\n",
       "22        19\n",
       "19        12\n",
       "25        12\n",
       "21        11\n",
       "23        10\n",
       "30         9\n",
       "32         9\n",
       "Name: Visitors with Patient, dtype: int64"
      ]
     },
     "execution_count": 113,
     "metadata": {},
     "output_type": "execute_result"
    }
   ],
   "source": [
    "df11['Visitors with Patient'].value_counts()"
   ]
  },
  {
   "cell_type": "code",
   "execution_count": 114,
   "metadata": {},
   "outputs": [
    {
     "data": {
      "text/plain": [
       "41-50     63749\n",
       "31-40     63639\n",
       "51-60     48514\n",
       "21-30     40843\n",
       "71-80     35792\n",
       "61-70     33687\n",
       "11-20     16768\n",
       "81-90      7890\n",
       "0-10       6254\n",
       "91-100     1302\n",
       "Name: Age, dtype: int64"
      ]
     },
     "execution_count": 114,
     "metadata": {},
     "output_type": "execute_result"
    }
   ],
   "source": [
    "df11['Age'].value_counts()"
   ]
  },
  {
   "cell_type": "code",
   "execution_count": 115,
   "metadata": {},
   "outputs": [
    {
     "data": {
      "text/plain": [
       "21-30                 87491\n",
       "11-20                 78139\n",
       "31-40                 55159\n",
       "51-60                 35018\n",
       "0-10                  23604\n",
       "41-50                 11743\n",
       "71-80                 10254\n",
       "More than 100 Days     6683\n",
       "81-90                  4838\n",
       "91-100                 2765\n",
       "61-70                  2744\n",
       "Name: Stay, dtype: int64"
      ]
     },
     "execution_count": 115,
     "metadata": {},
     "output_type": "execute_result"
    }
   ],
   "source": [
    "df11['Stay'].value_counts()"
   ]
  },
  {
   "cell_type": "code",
   "execution_count": 116,
   "metadata": {},
   "outputs": [
    {
     "data": {
      "text/plain": [
       "case_id                                 0\n",
       "Hospital_code                           0\n",
       "Hospital_type_code                      0\n",
       "City_Code_Hospital                      0\n",
       "Hospital_region_code                    0\n",
       "Available Extra Rooms in Hospital       0\n",
       "Department                              0\n",
       "Ward_Type                               0\n",
       "Ward_Facility_Code                      0\n",
       "Bed Grade                             113\n",
       "patientid                               0\n",
       "City_Code_Patient                    4532\n",
       "Type of Admission                       0\n",
       "Severity of Illness                     0\n",
       "Visitors with Patient                   0\n",
       "Age                                     0\n",
       "Admission_Deposit                       0\n",
       "Stay                                    0\n",
       "dtype: int64"
      ]
     },
     "execution_count": 116,
     "metadata": {},
     "output_type": "execute_result"
    }
   ],
   "source": [
    "# checking null values for train set\n",
    "df11.isnull().sum()"
   ]
  },
  {
   "cell_type": "code",
   "execution_count": 118,
   "metadata": {},
   "outputs": [],
   "source": [
    "# filling null values of 'City_Code_Patient' , 'Bed Grade' column with the mode in train set\n",
    "df11['City_Code_Patient'] = df11['City_Code_Patient'].fillna(df11['City_Code_Patient'].dropna().mode().values[0])\n",
    "df11['Bed Grade'] = df11['Bed Grade'].fillna(df11['Bed Grade'].dropna().mode().values[0])"
   ]
  },
  {
   "cell_type": "code",
   "execution_count": 119,
   "metadata": {},
   "outputs": [
    {
     "data": {
      "text/plain": [
       "66714     50\n",
       "91292     43\n",
       "38525     39\n",
       "101359    36\n",
       "33491     34\n",
       "          ..\n",
       "63360      1\n",
       "85687      1\n",
       "89781      1\n",
       "97969      1\n",
       "58524      1\n",
       "Name: patientid, Length: 92017, dtype: int64"
      ]
     },
     "execution_count": 119,
     "metadata": {},
     "output_type": "execute_result"
    }
   ],
   "source": [
    "df11['patientid'].value_counts()"
   ]
  },
  {
   "cell_type": "code",
   "execution_count": 120,
   "metadata": {},
   "outputs": [
    {
     "data": {
      "text/plain": [
       "case_id                                 0\n",
       "Hospital_code                           0\n",
       "Hospital_type_code                      0\n",
       "City_Code_Hospital                      0\n",
       "Hospital_region_code                    0\n",
       "Available Extra Rooms in Hospital       0\n",
       "Department                              0\n",
       "Ward_Type                               0\n",
       "Ward_Facility_Code                      0\n",
       "Bed Grade                              35\n",
       "patientid                               0\n",
       "City_Code_Patient                    2157\n",
       "Type of Admission                       0\n",
       "Severity of Illness                     0\n",
       "Visitors with Patient                   0\n",
       "Age                                     0\n",
       "Admission_Deposit                       0\n",
       "dtype: int64"
      ]
     },
     "execution_count": 120,
     "metadata": {},
     "output_type": "execute_result"
    }
   ],
   "source": [
    "df22.isnull().sum()      # checking null values for test set"
   ]
  },
  {
   "cell_type": "code",
   "execution_count": 121,
   "metadata": {},
   "outputs": [],
   "source": [
    "# filling null values of 'City_Code_Patient' , 'Bed Grade' column with the mode in test set\n",
    "df22['City_Code_Patient'] = df22['City_Code_Patient'].fillna(df22['City_Code_Patient'].dropna().mode().values[0])\n",
    "df22['Bed Grade'] = df22['Bed Grade'].fillna(df22['Bed Grade'].dropna().mode().values[0])"
   ]
  },
  {
   "cell_type": "code",
   "execution_count": 122,
   "metadata": {},
   "outputs": [],
   "source": [
    "# create dummy value both for train and test set\n",
    "Hospital_type_code_new=pd.get_dummies(df11['Hospital_type_code'])\n",
    "Hospital_region_code_new=pd.get_dummies(df11['Hospital_region_code'])\n",
    "Department_new=pd.get_dummies(df11['Department'])\n",
    "Ward_Type_new=pd.get_dummies(df11['Ward_Type'])\n",
    "Ward_Facility_Code_new=pd.get_dummies(df11['Ward_Facility_Code'])\n",
    "Type_of_Admission_new=pd.get_dummies(df11['Type of Admission'])\n",
    "Severity_of_Illness_new=pd.get_dummies(df11['Severity of Illness'])\n",
    "Age_new=pd.get_dummies(df11['Age'])\n",
    "\n",
    "\n",
    "Hospital_type_code_test=pd.get_dummies(df22['Hospital_type_code'])\n",
    "Hospital_region_code_test=pd.get_dummies(df22['Hospital_region_code'])\n",
    "Department_test=pd.get_dummies(df22['Department'])\n",
    "Ward_Type_test=pd.get_dummies(df22['Ward_Type'])\n",
    "Ward_Facility_Code_test=pd.get_dummies(df22['Ward_Facility_Code'])\n",
    "Type_of_Admission_test=pd.get_dummies(df22['Type of Admission'])\n",
    "Severity_of_Illness_test=pd.get_dummies(df22['Severity of Illness'])\n",
    "Age_test=pd.get_dummies(df22['Age'])\n"
   ]
  },
  {
   "cell_type": "code",
   "execution_count": 123,
   "metadata": {},
   "outputs": [],
   "source": [
    "# add all dummy into df1 and df2\n",
    "df11=pd.concat([df11,Hospital_type_code_new,Hospital_region_code_new,Department_new,Ward_Type_new,Ward_Facility_Code_new,\n",
    "              Type_of_Admission_new,Severity_of_Illness_new,Age_new],axis=1)\n",
    "\n",
    "df22=pd.concat([df22,Hospital_type_code_test,Hospital_region_code_test,Department_test,Ward_Type_test,Ward_Facility_Code_test,\n",
    "              Type_of_Admission_test,Severity_of_Illness_test,Age_test],axis=1)"
   ]
  },
  {
   "cell_type": "code",
   "execution_count": 124,
   "metadata": {},
   "outputs": [],
   "source": [
    "# drop unecessary and old columns for train and test set\n",
    "df11 = df11.drop(['Hospital_type_code' , 'Hospital_region_code' , 'Department' , 'Ward_Type' , \n",
    "               'Ward_Facility_Code' , 'Type of Admission' , 'Severity of Illness' , 'Age','case_id' ] , axis=1)\n",
    "\n",
    "df22 = df22.drop(['Hospital_type_code' , 'Hospital_region_code' , 'Department' , 'Ward_Type' , \n",
    "               'Ward_Facility_Code' , 'Type of Admission' , 'Severity of Illness' , 'Age','case_id'] , axis=1)"
   ]
  },
  {
   "cell_type": "code",
   "execution_count": 172,
   "metadata": {},
   "outputs": [
    {
     "data": {
      "text/html": [
       "<div>\n",
       "<style scoped>\n",
       "    .dataframe tbody tr th:only-of-type {\n",
       "        vertical-align: middle;\n",
       "    }\n",
       "\n",
       "    .dataframe tbody tr th {\n",
       "        vertical-align: top;\n",
       "    }\n",
       "\n",
       "    .dataframe thead th {\n",
       "        text-align: right;\n",
       "    }\n",
       "</style>\n",
       "<table border=\"1\" class=\"dataframe\">\n",
       "  <thead>\n",
       "    <tr style=\"text-align: right;\">\n",
       "      <th></th>\n",
       "      <th>Hospital_code</th>\n",
       "      <th>City_Code_Hospital</th>\n",
       "      <th>Available Extra Rooms in Hospital</th>\n",
       "      <th>Bed Grade</th>\n",
       "      <th>patientid</th>\n",
       "      <th>City_Code_Patient</th>\n",
       "      <th>Visitors with Patient</th>\n",
       "      <th>Admission_Deposit</th>\n",
       "      <th>Stay</th>\n",
       "      <th>a</th>\n",
       "      <th>...</th>\n",
       "      <th>0-10</th>\n",
       "      <th>11-20</th>\n",
       "      <th>21-30</th>\n",
       "      <th>31-40</th>\n",
       "      <th>41-50</th>\n",
       "      <th>51-60</th>\n",
       "      <th>61-70</th>\n",
       "      <th>71-80</th>\n",
       "      <th>81-90</th>\n",
       "      <th>91-100</th>\n",
       "    </tr>\n",
       "  </thead>\n",
       "  <tbody>\n",
       "    <tr>\n",
       "      <th>0</th>\n",
       "      <td>8</td>\n",
       "      <td>3</td>\n",
       "      <td>3</td>\n",
       "      <td>2.0</td>\n",
       "      <td>31397</td>\n",
       "      <td>7.0</td>\n",
       "      <td>2</td>\n",
       "      <td>4911.0</td>\n",
       "      <td>5</td>\n",
       "      <td>0</td>\n",
       "      <td>...</td>\n",
       "      <td>0</td>\n",
       "      <td>0</td>\n",
       "      <td>0</td>\n",
       "      <td>0</td>\n",
       "      <td>0</td>\n",
       "      <td>1</td>\n",
       "      <td>0</td>\n",
       "      <td>0</td>\n",
       "      <td>0</td>\n",
       "      <td>0</td>\n",
       "    </tr>\n",
       "    <tr>\n",
       "      <th>1</th>\n",
       "      <td>2</td>\n",
       "      <td>5</td>\n",
       "      <td>2</td>\n",
       "      <td>2.0</td>\n",
       "      <td>31397</td>\n",
       "      <td>7.0</td>\n",
       "      <td>2</td>\n",
       "      <td>5954.0</td>\n",
       "      <td>6</td>\n",
       "      <td>0</td>\n",
       "      <td>...</td>\n",
       "      <td>0</td>\n",
       "      <td>0</td>\n",
       "      <td>0</td>\n",
       "      <td>0</td>\n",
       "      <td>0</td>\n",
       "      <td>1</td>\n",
       "      <td>0</td>\n",
       "      <td>0</td>\n",
       "      <td>0</td>\n",
       "      <td>0</td>\n",
       "    </tr>\n",
       "  </tbody>\n",
       "</table>\n",
       "<p>2 rows × 52 columns</p>\n",
       "</div>"
      ],
      "text/plain": [
       "   Hospital_code  City_Code_Hospital  Available Extra Rooms in Hospital  \\\n",
       "0              8                   3                                  3   \n",
       "1              2                   5                                  2   \n",
       "\n",
       "   Bed Grade  patientid  City_Code_Patient  Visitors with Patient  \\\n",
       "0        2.0      31397                7.0                      2   \n",
       "1        2.0      31397                7.0                      2   \n",
       "\n",
       "   Admission_Deposit  Stay  a  ...  0-10  11-20  21-30  31-40  41-50  51-60  \\\n",
       "0             4911.0     5  0  ...     0      0      0      0      0      1   \n",
       "1             5954.0     6  0  ...     0      0      0      0      0      1   \n",
       "\n",
       "   61-70  71-80  81-90  91-100  \n",
       "0      0      0      0       0  \n",
       "1      0      0      0       0  \n",
       "\n",
       "[2 rows x 52 columns]"
      ]
     },
     "execution_count": 172,
     "metadata": {},
     "output_type": "execute_result"
    }
   ],
   "source": [
    "df11.head(2)"
   ]
  },
  {
   "cell_type": "code",
   "execution_count": 142,
   "metadata": {},
   "outputs": [],
   "source": [
    "# mapping of features\n",
    "mapping = {'21-30' : 1 , '11-20' : 2 , '31-40' : 3 , '51-60' : 4 , '0-10' : 5, '41-50' : 6 ,'71-80' : 7,\n",
    "          'More than 100 Days' : 8 , '81-90' : 9 , '91-100' : 10, '61-70' : 11}\n",
    "df11['Stay'] = df11['Stay'].map(mapping)"
   ]
  },
  {
   "cell_type": "code",
   "execution_count": 160,
   "metadata": {},
   "outputs": [
    {
     "data": {
      "text/plain": [
       "1     87491\n",
       "2     78139\n",
       "3     55159\n",
       "4     35018\n",
       "5     23604\n",
       "6     11743\n",
       "7     10254\n",
       "8      6683\n",
       "9      4838\n",
       "10     2765\n",
       "11     2744\n",
       "Name: Stay, dtype: int64"
      ]
     },
     "execution_count": 160,
     "metadata": {},
     "output_type": "execute_result"
    }
   ],
   "source": [
    "df11['Stay'].value_counts()"
   ]
  },
  {
   "cell_type": "code",
   "execution_count": 161,
   "metadata": {},
   "outputs": [],
   "source": [
    "# categorize x and y  \n",
    "x=df11.drop(['Stay'],axis=1)\n",
    "y=df11['Stay']\n",
    "x_test = df22"
   ]
  },
  {
   "cell_type": "code",
   "execution_count": 162,
   "metadata": {},
   "outputs": [
    {
     "data": {
      "text/plain": [
       "0         0\n",
       "1         0\n",
       "2         0\n",
       "3         0\n",
       "4         0\n",
       "         ..\n",
       "318433    0\n",
       "318434    0\n",
       "318435    0\n",
       "318436    0\n",
       "318437    0\n",
       "Name: 21-30, Length: 318438, dtype: uint8"
      ]
     },
     "execution_count": 162,
     "metadata": {},
     "output_type": "execute_result"
    }
   ],
   "source": [
    "df11['21-30']"
   ]
  },
  {
   "cell_type": "code",
   "execution_count": null,
   "metadata": {},
   "outputs": [],
   "source": [
    "# train test split\n",
    "from sklearn.model_selection import train_test_split\n",
    "x_train,x_val,y_train,y_val=train_test_split(x,y,test_size=0.2,)"
   ]
  },
  {
   "cell_type": "code",
   "execution_count": 133,
   "metadata": {},
   "outputs": [],
   "source": [
    "# Linear Regression\n",
    "from sklearn.linear_model import LinearRegression\n",
    "\n",
    "model2 = LinearRegression().fit(x_train,y_train)"
   ]
  },
  {
   "cell_type": "code",
   "execution_count": 145,
   "metadata": {},
   "outputs": [],
   "source": [
    "from xgboost import XGBClassifier\n",
    "modelx = XGBClassifier().fit(x_train, y_train)"
   ]
  },
  {
   "cell_type": "code",
   "execution_count": 146,
   "metadata": {},
   "outputs": [
    {
     "data": {
      "text/plain": [
       "array(['51-60', '21-30', '0-10', ..., '21-30', '21-30', '51-60'],\n",
       "      dtype=object)"
      ]
     },
     "execution_count": 146,
     "metadata": {},
     "output_type": "execute_result"
    }
   ],
   "source": [
    "modelx.predict(x_val)"
   ]
  },
  {
   "cell_type": "code",
   "execution_count": 147,
   "metadata": {},
   "outputs": [],
   "source": [
    "ypredx = modelx.predict(x_test)"
   ]
  },
  {
   "cell_type": "code",
   "execution_count": null,
   "metadata": {},
   "outputs": [],
   "source": [
    "# again convert o and 1 into No and Yes\n",
    "df11['Stay'] = df11['Stay'].map({1:'21-30', 2:'11-20' , 3:'31-40' , 4:'51-60' , 5:'0-10' , 6:'41-50' , 7:'71-80',\n",
    "                               8:'More than 100 Days' , 9:'81-90' , 10:'91-100' , 11:'61-70'})"
   ]
  },
  {
   "cell_type": "code",
   "execution_count": 148,
   "metadata": {},
   "outputs": [
    {
     "name": "stdout",
     "output_type": "stream",
     "text": [
      "['0-10' '51-60' '21-30' ... '11-20' '11-20' '51-60']\n"
     ]
    }
   ],
   "source": [
    "print (ypredx)"
   ]
  },
  {
   "cell_type": "code",
   "execution_count": 164,
   "metadata": {},
   "outputs": [],
   "source": [
    "from sklearn.naive_bayes import MultinomialNB\n",
    "model4 = MultinomialNB().fit(x_train, y_train)\n",
    "\n",
    "y_pred4 = model4.predict(x_test)"
   ]
  },
  {
   "cell_type": "code",
   "execution_count": 165,
   "metadata": {},
   "outputs": [
    {
     "data": {
      "text/plain": [
       "array([1, 1, 1, ..., 1, 1, 9], dtype=int64)"
      ]
     },
     "execution_count": 165,
     "metadata": {},
     "output_type": "execute_result"
    }
   ],
   "source": [
    "y_pred4"
   ]
  },
  {
   "cell_type": "code",
   "execution_count": 173,
   "metadata": {},
   "outputs": [],
   "source": [
    "# DecisionTreeRegressor\n",
    "from sklearn.tree import DecisionTreeRegressor\n",
    "model5 = DecisionTreeRegressor().fit(x_train , y_train)\n",
    "y_pred5 = model5.predict(x_test)"
   ]
  },
  {
   "cell_type": "code",
   "execution_count": null,
   "metadata": {},
   "outputs": [],
   "source": [
    "# Support Vector Regression\n",
    "from sklearn.svm import SVR\n",
    "\n",
    "model6 = SVR().fit(x_train, y_train)\n",
    "y_pred6 = model6.predict(x_test)"
   ]
  },
  {
   "cell_type": "code",
   "execution_count": 174,
   "metadata": {},
   "outputs": [
    {
     "data": {
      "text/plain": [
       "array([5., 4., 2., ..., 1., 1., 2.])"
      ]
     },
     "execution_count": 174,
     "metadata": {},
     "output_type": "execute_result"
    }
   ],
   "source": [
    "y_pred5"
   ]
  },
  {
   "cell_type": "code",
   "execution_count": 184,
   "metadata": {},
   "outputs": [],
   "source": [
    "# Create columns for the new csv file \n",
    "output_df = pd.DataFrame({'case_id' : df33['case_id'].values})\n",
    "output_df['Stay'] = y_pred5\n",
    "output_df['Stay'] = output_df['Stay'].map({1.:'21-30', 2.:'31-40' , 3.:'31-40' , 4.:'51-60' , 5.:'0-10' , 6.:'41-50' , 7.:'71-80',\n",
    "                               8.:'More than 100 Days' , 9.:'81-90' , 10.:'91-100' , 11.:'61-70'})"
   ]
  },
  {
   "cell_type": "code",
   "execution_count": 185,
   "metadata": {},
   "outputs": [],
   "source": [
    "# submit file to csv \n",
    "output_df.to_csv('Submission.csv' , index=False)"
   ]
  },
  {
   "cell_type": "code",
   "execution_count": null,
   "metadata": {},
   "outputs": [],
   "source": []
  }
 ],
 "metadata": {
  "kernelspec": {
   "display_name": "Python 3",
   "language": "python",
   "name": "python3"
  },
  "language_info": {
   "codemirror_mode": {
    "name": "ipython",
    "version": 3
   },
   "file_extension": ".py",
   "mimetype": "text/x-python",
   "name": "python",
   "nbconvert_exporter": "python",
   "pygments_lexer": "ipython3",
   "version": "3.7.6"
  }
 },
 "nbformat": 4,
 "nbformat_minor": 4
}
